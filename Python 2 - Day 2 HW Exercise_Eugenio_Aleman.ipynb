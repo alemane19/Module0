{
 "cells": [
  {
   "cell_type": "markdown",
   "metadata": {},
   "source": [
    "# OOP - Composition, Encapsulation, & Inheritance"
   ]
  },
  {
   "cell_type": "markdown",
   "metadata": {},
   "source": [
    "## Exercise 1: \n",
    "Create a Temperature Converter program using OOP by creating a Temperature class with two private attributes to store Fahrenheit and Celsius degrees. In the Temperature class, define methods that \n",
    "- sets the private attributes. When you set one unit of temperature, it should calculate and set the other unit of temperature. For example, when you set degrees in Fahrenheit, it should calculate and set in Celsius degrees. \n",
    "- gets the hidden attributes that round the number to 2 decimal places. \n",
    "\n",
    "The output should look something like following:\n",
    "\n",
    "    MENU\n",
    "    1. Fahrenheit to Celsius\n",
    "    2. Celsius to Fahrenheit\n",
    "    3. Quit\n",
    "    \n",
    "    Enter a menu option: 1\n",
    "    Enter degrees in Fahrenheit: 99\n",
    "    99.00 oF is 37.22 oC.\n",
    "    \n",
    "    Enter a menu option: 2\n",
    "    Enter degrees in Celsius: 37.22\n",
    "    37.22 oC is 99.00 oF.\n",
    "    \n",
    "    Enter a menu option: 3\n",
    "    Bye\n"
   ]
  },
  {
   "cell_type": "code",
   "execution_count": 28,
   "metadata": {},
   "outputs": [],
   "source": [
    "class Temperature:\n",
    "    \n",
    "    def __init__(self):\n",
    "        self.__fahrenheit = None\n",
    "        self.__celsius = None\n",
    "        \n",
    "    def get_celsius(self):\n",
    "        return self.__celsius\n",
    "    \n",
    "    def get_fahrenheit(self):\n",
    "        return self.__fahrenheit\n",
    "    \n",
    "    def conv_to_c(self, celsius):\n",
    "        self.__celsius = round(celsius,2)\n",
    "        self.__fahrenheit = self.__celsius * 9 / 5 + 32\n",
    "        self.__fahrenheit = round(self.__fahrenheit, 2)\n",
    "        \n",
    "    def conv_to_f(self, fahrenheit):\n",
    "        self.__fahrenheit = round(fahrenheit,2)\n",
    "        self.__celsius = (self.__fahrenheit - 32) * 5/9\n",
    "        self.__celsius = round(self.__celsius, 2)\n",
    "        \n",
    "        \n",
    "        \n"
   ]
  },
  {
   "cell_type": "code",
   "execution_count": 29,
   "metadata": {},
   "outputs": [
    {
     "name": "stdout",
     "output_type": "stream",
     "text": [
      "Menu\n",
      "1. Fahrenheit to Celsius\n",
      "2. Celsius to Farenheit\n",
      "3. Quit\n",
      "\n",
      "Enter your option: 1\n",
      "Please enter degrees in Fahrenheit: 89\n",
      "89.0 in Fahrenheit is 31.67 degree Celsius. \n",
      "\n",
      "Enter your option: 2\n",
      "Please enter degrees in Celsius: 32\n",
      "32.0 in Celsius is 89.6 degree Farhenheit. \n",
      "\n",
      "Enter your option: 3\n",
      "See you later!\n"
     ]
    }
   ],
   "source": [
    "def menu():\n",
    "    print(\"Menu\")\n",
    "    print(\"1. Fahrenheit to Celsius\")\n",
    "    print(\"2. Celsius to Farenheit\")\n",
    "    print(\"3. Quit\")\n",
    "    print()\n",
    "    \n",
    "temp = Temperature()\n",
    "menu()\n",
    "\n",
    "while True:\n",
    "    \n",
    "    try:\n",
    "        choice = int(input(\"Enter your option: \"))\n",
    "    \n",
    "    except:\n",
    "        print(\"This is an invalid opiton.\\n\\n\")\n",
    "        menu()\n",
    "        continue\n",
    "    \n",
    "    if choice == 1:\n",
    "        degree = float(input(\"Please enter degrees in Fahrenheit: \"))\n",
    "        temp.conv_to_f(degree)\n",
    "        print(f\"{degree} in Fahrenheit is {temp.get_celsius()} degree Celsius. \\n\")\n",
    "        \n",
    "    elif choice == 2:\n",
    "        degree = float(input(\"Please enter degrees in Celsius: \"))\n",
    "        temp.conv_to_c(degree)\n",
    "        print(f\"{degree} in Celsius is {temp.get_fahrenheit()} degree Farhenheit. \\n\")\n",
    "\n",
    "    elif choice == 3:\n",
    "        break\n",
    "        \n",
    "    else:\n",
    "        print(\"This is an invalid option. \\n\\n\")\n",
    "        \n",
    "print(\"See you later!\")"
   ]
  },
  {
   "cell_type": "markdown",
   "metadata": {},
   "source": [
    "## Exercise 2: \n",
    "Create a <b>Privileges</b> class that has privileges, a private attribute. It can store a list of strings such as \"can add\", \"can delete\", and \"can modify\".  Write a method called show_privileges(). \n",
    "\n",
    "Create a class called <b>Admin</b> that inherits from the <b>Person</b> class (see next cell). Make a Privileges instance as an attribute in the Admin class. Create a new instance of Admin and use your method to show its privileges.\n"
   ]
  },
  {
   "cell_type": "code",
   "execution_count": 31,
   "metadata": {},
   "outputs": [],
   "source": [
    "class Person :\n",
    "    \n",
    "    def __init__(self, name, age, gender) :\n",
    "        self.__name = name\n",
    "        self.__age = age\n",
    "        self.__gender = gender\n",
    "\n",
    "    def get_name(self) :\n",
    "        return self.__name\n",
    "    \n",
    "    def get_info(self) :\n",
    "        return f\"Name: {self.__name}\\nAge: {self.__age}\\nGender: {self.__gender}\"\n",
    "       "
   ]
  },
  {
   "cell_type": "code",
   "execution_count": 43,
   "metadata": {},
   "outputs": [],
   "source": [
    "class Privileges:\n",
    "    \n",
    "    def __init__(self):\n",
    "        self.__list = []\n",
    "    \n",
    "    def add_privilege(self, privilege):\n",
    "        self.__list.append(privilege)\n",
    "        \n",
    "    def get_privileges(self):\n",
    "        return self.__list\n",
    "    \n",
    "class Admin(Person):\n",
    "    \n",
    "    def __init__(self, name, age, gender):\n",
    "        super().__init__(name, age, gender)\n",
    "        self.__privileges = Privileges()\n",
    "        \n",
    "    def add_privilege(self, privilege):\n",
    "        self.__privileges.add_privilege(privilege)\n",
    "        \n",
    "    def get_privilege(self):\n",
    "        return self.__privileges\n",
    "    \n",
    "    def show_privileges(self):\n",
    "        info = super().get_name() + \"'s privileges are: \"\n",
    "        for item in self.__privileges.get_privileges():\n",
    "            info += f\"\\n{item}\"\n",
    "            \n",
    "        return info\n",
    "        \n",
    "        "
   ]
  },
  {
   "cell_type": "code",
   "execution_count": 44,
   "metadata": {},
   "outputs": [
    {
     "name": "stdout",
     "output_type": "stream",
     "text": [
      "John's privileges are: \n",
      "Can Add\n",
      "Can Delete\n",
      "Can Modify\n"
     ]
    }
   ],
   "source": [
    "admin = Admin(\"John\", 26, \"Male\")\n",
    "\n",
    "admin.add_privilege(\"Can Add\")\n",
    "admin.add_privilege(\"Can Delete\")\n",
    "admin.add_privilege(\"Can Modify\")\n",
    "print(admin.show_privileges())\n",
    "\n",
    "\n"
   ]
  },
  {
   "cell_type": "markdown",
   "metadata": {},
   "source": [
    "## Exercise 3:\n",
    "1. Use the Product class from next cell\n",
    "2. Add get_description() method to Product class\n",
    "3. Create Book class inherited from the Product class. Add author attribute to the Book class and make modification to get_description() method\n",
    "4. Create Movie class inherited from the Product class. Add year attributes. Add/modify necessary methods"
   ]
  },
  {
   "cell_type": "code",
   "execution_count": 41,
   "metadata": {},
   "outputs": [],
   "source": [
    "# From Day 1 Class Demo\n",
    "class Product : \n",
    "    \"\"\"A simple attempt to model a product.\"\"\"\n",
    "    \n",
    "    def __init__(self, name, price, discount_rate) :\n",
    "        \"\"\"Initialize name, price, and discount_rate attributes\"\"\"\n",
    "        self.name = name\n",
    "        self.price = price\n",
    "        self.discount_rate = discount_rate\n",
    "        \n",
    "        \n",
    "    def get_discount_amount(self) :\n",
    "        \"\"\"Computes a discount calculation\"\"\"\n",
    "        return self.price * self.discount_rate / 100\n",
    "    \n",
    "        \n",
    "    def get_info(self) :\n",
    "        return(f\"Name: {self.name}\\n\" + \n",
    "                f\"Price: {self.price}\\n\" +\n",
    "                f\"Disicount Amount: ${self.get_discount_amount():,.2f}\\n\" +\n",
    "                f\"Discounted Price: ${self.get_sale_price():,.2f}\")\n",
    "    \n",
    "    def get_sale_price(self) :\n",
    "        \"\"\"Calls another method to find a sale price\"\"\"\n",
    "        return self.price - self.get_discount_amount()\n",
    "        \n",
    "        "
   ]
  },
  {
   "cell_type": "code",
   "execution_count": null,
   "metadata": {},
   "outputs": [],
   "source": []
  },
  {
   "cell_type": "markdown",
   "metadata": {},
   "source": [
    "## Exercise 4\n",
    "Create a <b>MyDate</b> class with month, day, year, hour, minute, and second <b>private attributes</b>.  Create an initialization method that takes a string in the format of \"mm-dd-yyyy hh:mm:ss\". Also create necessary public methods as needed.  \n",
    "\n",
    "Then, run below program to show your class works:\n",
    "\n",
    "    today = MyDate(\"10-10-2020 12:11:22\")\n",
    "    print(today.get_datetime())\n",
    "    today.set_datetime(\"11-31-1999 02:33:22\")\n",
    "    print(today.get_datetime())\n",
    "    print(today.get_datetime(month_first=False))"
   ]
  },
  {
   "cell_type": "code",
   "execution_count": null,
   "metadata": {},
   "outputs": [],
   "source": []
  },
  {
   "cell_type": "code",
   "execution_count": null,
   "metadata": {},
   "outputs": [],
   "source": [
    "# main program\n",
    "today = MyDate(\"10-10-2020 12:11:22\")\n",
    "print(today.get_datetime())\n",
    "today.set_datetime(\"11-31-1999 02:33:22\")\n",
    "print(today.get_datetime())\n",
    "print(today.get_datetime(month_first=False))"
   ]
  },
  {
   "cell_type": "markdown",
   "metadata": {},
   "source": [
    "## Challenge\n",
    "\n",
    "Modify <b>MyDate</b> class: \n",
    "\n",
    "    - to validate date & time (for month, days, hour, minute, and second). \n",
    "    - to add days\n",
    "    - to add hours"
   ]
  },
  {
   "cell_type": "code",
   "execution_count": null,
   "metadata": {},
   "outputs": [],
   "source": []
  }
 ],
 "metadata": {
  "kernelspec": {
   "display_name": "Python 3",
   "language": "python",
   "name": "python3"
  },
  "language_info": {
   "codemirror_mode": {
    "name": "ipython",
    "version": 3
   },
   "file_extension": ".py",
   "mimetype": "text/x-python",
   "name": "python",
   "nbconvert_exporter": "python",
   "pygments_lexer": "ipython3",
   "version": "3.7.1"
  }
 },
 "nbformat": 4,
 "nbformat_minor": 4
}
