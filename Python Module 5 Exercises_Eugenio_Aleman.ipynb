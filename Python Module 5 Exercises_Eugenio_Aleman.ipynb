{
 "cells": [
  {
   "cell_type": "markdown",
   "metadata": {},
   "source": [
    "1. Create a dictionary named pairs with key value pairs of hello and fire, 3 and seven, strong and 45. Print out the dictionary."
   ]
  },
  {
   "cell_type": "code",
   "execution_count": 17,
   "metadata": {},
   "outputs": [
    {
     "name": "stdout",
     "output_type": "stream",
     "text": [
      "{'Hello': 'fire', 3: 'seven', 'Strong': 45}\n"
     ]
    }
   ],
   "source": [
    "pairs = {\"Hello\": \"fire\" ,3: \"seven\", \"Strong\": 45}\n",
    "print(pairs)\n"
   ]
  },
  {
   "cell_type": "markdown",
   "metadata": {},
   "source": [
    "2. Add welcome and 56 pair into pairs dictionary. Print out the dictionary. "
   ]
  },
  {
   "cell_type": "code",
   "execution_count": 4,
   "metadata": {},
   "outputs": [
    {
     "name": "stdout",
     "output_type": "stream",
     "text": [
      "{'Hello': 'fire', 3: 7, 'Strong': 45, 'welcome': 56}\n"
     ]
    }
   ],
   "source": [
    "pairs[\"welcome\"]= 56\n",
    "print(pairs)"
   ]
  },
  {
   "cell_type": "markdown",
   "metadata": {},
   "source": [
    "3. Delete one item from the Dictionary. Print deleted item and the dictionary."
   ]
  },
  {
   "cell_type": "code",
   "execution_count": 6,
   "metadata": {},
   "outputs": [
    {
     "name": "stdout",
     "output_type": "stream",
     "text": [
      "{'Hello': 'fire', 3: 7, 'welcome': 56}\n"
     ]
    }
   ],
   "source": [
    "del pairs[\"Strong\"]\n",
    "print(pairs)"
   ]
  },
  {
   "cell_type": "markdown",
   "metadata": {},
   "source": [
    "4. Print the value of an item where key is 3 from the dicitonary"
   ]
  },
  {
   "cell_type": "code",
   "execution_count": 7,
   "metadata": {},
   "outputs": [
    {
     "name": "stdout",
     "output_type": "stream",
     "text": [
      "7\n"
     ]
    }
   ],
   "source": [
    "print(pairs[3])"
   ]
  },
  {
   "cell_type": "markdown",
   "metadata": {},
   "source": [
    "5. Try to find out if the key called hello exist. Print out the key is found if it is there otherwise print out the key is not there."
   ]
  },
  {
   "cell_type": "code",
   "execution_count": 18,
   "metadata": {},
   "outputs": [
    {
     "name": "stdout",
     "output_type": "stream",
     "text": [
      "Key is there\n"
     ]
    }
   ],
   "source": [
    "if \"Hello\" in pairs:\n",
    "    print(\"Key is there\")\n",
    "else: \n",
    "    print(\"Key is not there\")"
   ]
  },
  {
   "cell_type": "markdown",
   "metadata": {},
   "source": [
    "6. Loop through the dictionary and print out each value. "
   ]
  },
  {
   "cell_type": "code",
   "execution_count": 20,
   "metadata": {},
   "outputs": [
    {
     "name": "stdout",
     "output_type": "stream",
     "text": [
      "Values in pairs are: \n",
      "fire\n",
      "seven\n",
      "45\n"
     ]
    }
   ],
   "source": [
    "print(\"Values in pairs are: \")\n",
    "for value in pairs.values():\n",
    "    print(f\"{value}\")\n",
    "\n"
   ]
  },
  {
   "cell_type": "markdown",
   "metadata": {},
   "source": [
    "7. Loop through the dictionary and print out each key."
   ]
  },
  {
   "cell_type": "code",
   "execution_count": 23,
   "metadata": {},
   "outputs": [
    {
     "name": "stdout",
     "output_type": "stream",
     "text": [
      "The keys in the pairs are: \n",
      "Hello\n",
      "3\n",
      "Strong\n"
     ]
    }
   ],
   "source": [
    "print(\"The keys in the pairs are: \")\n",
    "for key in pairs.keys():\n",
    "    print(f\"{key}\")"
   ]
  },
  {
   "cell_type": "markdown",
   "metadata": {},
   "source": [
    "8. Loop through the dictionary and print out each key and value pair. "
   ]
  },
  {
   "cell_type": "code",
   "execution_count": 24,
   "metadata": {},
   "outputs": [
    {
     "name": "stdout",
     "output_type": "stream",
     "text": [
      "The keys in the pairs are: \n",
      "Hello : fire\n",
      "3 : seven\n",
      "Strong : 45\n"
     ]
    }
   ],
   "source": [
    "print(\"The keys in the pairs are: \")\n",
    "for key, value in pairs.items():\n",
    "    print(f\"{key} : {value}\")"
   ]
  },
  {
   "cell_type": "markdown",
   "metadata": {},
   "source": [
    "9. Make a nested dictionary called parent with 2 children's information: name, age, gender. Print out parent."
   ]
  },
  {
   "cell_type": "code",
   "execution_count": 28,
   "metadata": {},
   "outputs": [
    {
     "name": "stdout",
     "output_type": "stream",
     "text": [
      "{'Child1': {'name': 'John', 'age': 18, 'sex': 'male'}, 'Child2': {'name': 'Mary', 'age': 14, 'sex': 'female'}}\n"
     ]
    }
   ],
   "source": [
    "parent = {\"Child1\" : {\"name\" :\"John\", \"age\" : 18, \"sex\" : \"male\"}, \"Child2\" : {\"name\" : \"Mary\", \"age\": 14, \"sex\" : \"female\"}}\n",
    "print(parent)"
   ]
  },
  {
   "cell_type": "markdown",
   "metadata": {},
   "source": [
    "10. Add new child to above dictionary. Print out the name of all children."
   ]
  },
  {
   "cell_type": "code",
   "execution_count": 38,
   "metadata": {},
   "outputs": [
    {
     "name": "stdout",
     "output_type": "stream",
     "text": [
      "{'Child1': {'name': 'John', 'age': 18, 'sex': 'male'}, 'Child2': {'name': 'Mary', 'age': 14, 'sex': 'female'}, 'Child3': {'name': 'Jason', 'age': 12, 'sex': 'male'}}\n",
      "\n",
      "The Name of my clidren are: \n",
      "\n",
      "John\n",
      "Mary\n",
      "Jason\n"
     ]
    }
   ],
   "source": [
    "parent = {\"Child1\" : {\"name\" :\"John\", \"age\" : 18, \"sex\" : \"male\"}, \"Child2\" : {\"name\" : \"Mary\", \"age\": 14, \"sex\" : \"female\"},\"Child3\" :{\"name\" :\"Jason\", \"age\" : 12, \"sex\" : \"male\"}}\n",
    "print(parent)\n",
    "print()\n",
    "print(\"The Name of my clidren are: \\n\")\n",
    "for child in parent.values():\n",
    "    print(child[\"name\"])\n"
   ]
  },
  {
   "cell_type": "markdown",
   "metadata": {},
   "source": [
    "11. Create a Test Scores program that gets the name of students and test score from a user. Then, generate a list of students who passed and a list of students who failed where passing test score is 60 or above. "
   ]
  },
  {
   "cell_type": "code",
   "execution_count": 41,
   "metadata": {},
   "outputs": [
    {
     "name": "stdout",
     "output_type": "stream",
     "text": [
      "What is the student's name: Paul\n",
      "What was the score on the test: 68\n",
      "Do you want to continue? (y/n)y\n",
      "What is the student's name: Mary\n",
      "What was the score on the test: 78\n",
      "Do you want to continue? (y/n)y\n",
      "What is the student's name: Steve\n",
      "What was the score on the test: 56\n",
      "Do you want to continue? (y/n)n\n",
      "{'Paul': 68.0, 'Mary': 78.0, 'Steve': 56.0}\n",
      "\n",
      "The student(s) that passed is/are ['Paul', 'Mary']\n",
      "The student(s) that failed is/are ['Steve']\n"
     ]
    }
   ],
   "source": [
    "passed = []\n",
    "failed = []\n",
    "students = {}\n",
    "\n",
    "stop = False\n",
    "\n",
    "while not stop:\n",
    "    student = input(\"What is the student's name: \")\n",
    "    score = input(\"What was the score on the test: \")\n",
    "    students[student] = float(score)\n",
    "    stop = input(\"Do you want to continue? (y/n)\") == 'n'\n",
    "    \n",
    "for key, value in students.items():\n",
    "    if value >= 60:\n",
    "        passed.append(key)\n",
    "    else:\n",
    "        failed.append(key)\n",
    "        \n",
    "print(students)\n",
    "print()\n",
    "print(f\"The student(s) that passed is/are {passed}\")\n",
    "print(f\"The student(s) that failed is/are {failed}\")"
   ]
  },
  {
   "cell_type": "markdown",
   "metadata": {},
   "source": [
    "12. Create a Word Counter program that gets a string of text from a user and then counts the number of times a word occrs in the string. \n",
    "\n",
    "The output should look something like this:\n",
    "\n",
    "    The Word Counter Program\n",
    "    \n",
    "    Enter a text string: \n",
    "    Humpty Dumpty sat on a wall, Humpty Dumpty had a great fall. All the king’s horses and all the king’s men couldn’t put Humpty together again.\n",
    "\n",
    "    a : 2\n",
    "    again : 1\n",
    "    all : 2\n",
    "    and : 1\n",
    "    couldn’t : 1\n",
    "    dumpty : 2\n",
    "    fall : 1\n",
    "    great : 1\n",
    "    had : 1\n",
    "    horses : 1\n",
    "    humpty : 3\n",
    "    king’s : 2\n",
    "    men : 1\n",
    "    on : 1\n",
    "    put : 1\n",
    "    sat : 1\n",
    "    the : 2\n",
    "    together : 1\n",
    "    wall : 1\n",
    "\n",
    "    There were total 26 words in the text string   "
   ]
  },
  {
   "cell_type": "code",
   "execution_count": null,
   "metadata": {},
   "outputs": [],
   "source": []
  }
 ],
 "metadata": {
  "kernelspec": {
   "display_name": "Python 3",
   "language": "python",
   "name": "python3"
  },
  "language_info": {
   "codemirror_mode": {
    "name": "ipython",
    "version": 3
   },
   "file_extension": ".py",
   "mimetype": "text/x-python",
   "name": "python",
   "nbconvert_exporter": "python",
   "pygments_lexer": "ipython3",
   "version": "3.7.1"
  }
 },
 "nbformat": 4,
 "nbformat_minor": 4
}
