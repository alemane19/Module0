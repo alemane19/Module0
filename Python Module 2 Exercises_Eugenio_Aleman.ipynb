{
 "cells": [
  {
   "cell_type": "markdown",
   "metadata": {},
   "source": [
    "1. Print out a data type of a variable?"
   ]
  },
  {
   "cell_type": "code",
   "execution_count": 1,
   "metadata": {},
   "outputs": [
    {
     "data": {
      "text/plain": [
       "str"
      ]
     },
     "execution_count": 1,
     "metadata": {},
     "output_type": "execute_result"
    }
   ],
   "source": [
    "type(\"23.54\")"
   ]
  },
  {
   "cell_type": "markdown",
   "metadata": {},
   "source": [
    "2. Round 4.5667 to the nearest hundreth using a build-in function, round()."
   ]
  },
  {
   "cell_type": "code",
   "execution_count": 2,
   "metadata": {},
   "outputs": [
    {
     "data": {
      "text/plain": [
       "4.567"
      ]
     },
     "execution_count": 2,
     "metadata": {},
     "output_type": "execute_result"
    }
   ],
   "source": [
    "round(4.5667,3)"
   ]
  },
  {
   "cell_type": "markdown",
   "metadata": {},
   "source": [
    "3. Convert \"657\" to an integer data type"
   ]
  },
  {
   "cell_type": "code",
   "execution_count": 4,
   "metadata": {},
   "outputs": [
    {
     "name": "stdout",
     "output_type": "stream",
     "text": [
      "657\n"
     ]
    }
   ],
   "source": [
    "(print(int(\"657\")))"
   ]
  },
  {
   "cell_type": "markdown",
   "metadata": {},
   "source": [
    "4. Write a function to calculate the miles per gallon.\n",
    "Get a miles driven and gallons used from a user and call your function to calculate the miles per gallon. "
   ]
  },
  {
   "cell_type": "code",
   "execution_count": 11,
   "metadata": {},
   "outputs": [
    {
     "name": "stdout",
     "output_type": "stream",
     "text": [
      "How many miles your drove? 34\n",
      "How many gallons you used? 7\n"
     ]
    },
    {
     "data": {
      "text/plain": [
       "4.86"
      ]
     },
     "execution_count": 11,
     "metadata": {},
     "output_type": "execute_result"
    }
   ],
   "source": [
    "def compute(miles, gallon):\n",
    "    miles_per_gallon = round(miles/gallon,2)\n",
    "    return miles_per_gallon\n",
    "\n",
    "miles = int(input(\"How many miles you drove? \"))\n",
    "gallon = int(input(\"How many gallons you used? \"))\n",
    "\n",
    "compute(miles, gallon)\n",
    "    \n",
    "    "
   ]
  },
  {
   "cell_type": "markdown",
   "metadata": {},
   "source": [
    "5. Enhance your function from exercise 3. Additionally, get a gas price per gallon from a user and write a program to compute the total gas cost and cost per mile. \n",
    "\n",
    "The output should look something like this:\n",
    "\n",
    "    Enter miles driven:            150\n",
    "    Enter gallons of gas used:     15\n",
    "    Enter cost per gallon:          3\n",
    "\n",
    "    Miles Per Gallon:   10.0\n",
    "    Total Gas Cost:     45.0\n",
    "    Cost per Mile:      0.3\n"
   ]
  },
  {
   "cell_type": "code",
   "execution_count": 15,
   "metadata": {},
   "outputs": [
    {
     "name": "stdout",
     "output_type": "stream",
     "text": [
      "Enter miles driven: 100\n",
      "Enter gallons of gas used: 25\n",
      "Cost per gallon: 3\n",
      "Miles Per Gallon: 4.0\n",
      "Total Gas Cost: 75\n",
      "Cost per Mile: 0.75\n"
     ]
    }
   ],
   "source": [
    "def compute(miles, gallon, cost):\n",
    "    miles_per_gallon = round(miles/gallon,2)\n",
    "    cost_per_gallon = (cost)\n",
    "    total_gas_cost = gallon*cost\n",
    "    cost_per_mile = total_gas_cost/miles\n",
    "    print(f\"Miles Per Gallon: {miles_per_gallon}\")\n",
    "    print(f\"Total Gas Cost: {total_gas_cost}\")\n",
    "    print(f\"Cost per Mile: {cost_per_mile}\")\n",
    "#    return miles_per_gallon\n",
    "            \n",
    "miles = int(input(\"Enter miles driven: \"))\n",
    "gallon = int(input(\"Enter gallons of gas used: \"))\n",
    "cost = int(input(\"Cost per gallon: \"))\n",
    "\n",
    "\n",
    "compute(miles, gallon, cost)\n",
    "    \n",
    "    "
   ]
  },
  {
   "cell_type": "markdown",
   "metadata": {},
   "source": [
    "6. Write a function called multiply_two() that accepts two parameters. The function should print a message like '15 + 2 = 17'.  Randomly generate two numbers between 1 and 100, then call the function with the two random numbers."
   ]
  },
  {
   "cell_type": "code",
   "execution_count": 37,
   "metadata": {},
   "outputs": [
    {
     "name": "stdout",
     "output_type": "stream",
     "text": [
      "33 72\n",
      "The product is: 2376\n"
     ]
    }
   ],
   "source": [
    "import random as rand\n",
    "\n",
    "def multiply_two(x,y):\n",
    "    return x*y\n",
    "num1 = rand.randint(1,100)\n",
    "num2 = rand.randint(1,100)\n",
    "print(num1,num2)\n",
    "print(f\"The product is:\",multiply_two(num1,num2))\n",
    "    \n",
    "    "
   ]
  },
  {
   "cell_type": "markdown",
   "metadata": {},
   "source": [
    "7. Write a function called make_shirt() that accepts a size and the text of a message. The function should print a sentence summarizing the size of the shirt and the message printed on it. The default shirt size is large and default message is 'I love Python!' Make a default size shirt with a message, a medium shirt with the default message, and a shirt of any size with a different message."
   ]
  },
  {
   "cell_type": "code",
   "execution_count": 86,
   "metadata": {},
   "outputs": [
    {
     "name": "stdout",
     "output_type": "stream",
     "text": [
      "The size of the shirt is Large.\n",
      "I still love Python\n",
      "\n",
      "The size of the shirt is Medium.\n",
      "I love Python\n",
      "\n",
      "The size of the shirt is Small.\n",
      "Don't know if I love Python\n",
      "\n"
     ]
    }
   ],
   "source": [
    "def make_shirt(size =\"Large\", message = \"I love Python\"):\n",
    "    print(f\"The size of the shirt is {size}.\\n{message}\")\n",
    "    print()\n",
    "    \n",
    "make_shirt(message = \"I still love Python\")\n",
    "make_shirt(size = \"Medium\")\n",
    "make_shirt(\"Small\", \"Don't know if I love Python\")"
   ]
  },
  {
   "cell_type": "markdown",
   "metadata": {},
   "source": [
    "8. Create a function for a multiplication table.  Get a number from a user and then call you function which produces a multiplication table for that number.\n",
    "The output should look something like this:\n",
    "\n",
    "        Enter a number: 3\n",
    "        3 X 1 = 3\n",
    "        3 X 2 = 6\n",
    "        3 X 3 = 9\n",
    "        3 X 4 = 12\n",
    "        3 X 5 = 15\n",
    "        3 X 6 = 18\n",
    "        3 X 7 = 21\n",
    "        3 X 8 = 24\n",
    "        3 X 9 = 27\n",
    "        "
   ]
  },
  {
   "cell_type": "code",
   "execution_count": 61,
   "metadata": {},
   "outputs": [
    {
     "name": "stdout",
     "output_type": "stream",
     "text": [
      "Please enter a number between 1 and 10: 2\n",
      "2 x 1 = 2\n",
      "2 x 2 = 4\n",
      "2 x 3 = 6\n",
      "2 x 4 = 8\n",
      "2 x 5 = 10\n",
      "2 x 6 = 12\n",
      "2 x 7 = 14\n",
      "2 x 8 = 16\n",
      "2 x 9 = 18\n"
     ]
    }
   ],
   "source": [
    "def mult_table(num):\n",
    "    for i in range(1,10):\n",
    "        print(num,\"x\",i,\"=\", num*i)\n",
    "\n",
    "number= int(input(\"Please enter a number between 1 and 10: \"))\n",
    "\n",
    "mult_table(number)\n"
   ]
  },
  {
   "cell_type": "markdown",
   "metadata": {},
   "source": [
    "9. Write a function that accepts a string and returns a string that is \n",
    "    - without any leading nor trailing blanks\n",
    "    - converts to all capital letters\n",
    "    - and replaces all blanks with a period(.).  \n",
    "\n",
    "Write a program to accept a string from a user then call your function and display the original string and changed string.  \n",
    "\n",
    "The output should look something like this:\n",
    "\n",
    "        Enter a text: may your dreams come true\n",
    "        \n",
    "        Original Text: may your dreams come true\n",
    "        New Text: MAY.YOUR.DREAMS.COME.TRUE"
   ]
  },
  {
   "cell_type": "code",
   "execution_count": 85,
   "metadata": {},
   "outputs": [
    {
     "name": "stdout",
     "output_type": "stream",
     "text": [
      "Enter a phrase you like: Esto no es fácil!! :)\n",
      "Original Phrase:\tEsto no es fácil!! :)\n",
      "New Phrase:\tESTO.NO.ES.FÁCIL!!.:)\n"
     ]
    }
   ],
   "source": [
    "def string_function(phrase):\n",
    "    \n",
    "    original_phrase = phrase.strip()\n",
    "    original_phrase = original_phrase.upper()\n",
    "    original_phrase = original_phrase.replace(\" \", \".\")\n",
    "    return original_phrase\n",
    "\n",
    "phrase_input = input(\"Enter a phrase you like: \")\n",
    "new_phrase = string_function(phrase_input)\n",
    "print(f\"Original Phrase:\\t{phrase_input}\\nNew Phrase:\\t{new_phrase}\")\n"
   ]
  },
  {
   "cell_type": "markdown",
   "metadata": {},
   "source": [
    "10. Write a function that returns a randomly selected character from a passed string. Write a program to accept a string from a user then call your function and display the original string and selected character.\n",
    "\n",
    "The output should look something like this:\n",
    "\n",
    "        Enter a text: functions\n",
    "        Original Text:\tfunctions\n",
    "        Random character:\ts"
   ]
  },
  {
   "cell_type": "code",
   "execution_count": null,
   "metadata": {},
   "outputs": [],
   "source": []
  }
 ],
 "metadata": {
  "kernelspec": {
   "display_name": "Python 3",
   "language": "python",
   "name": "python3"
  },
  "language_info": {
   "codemirror_mode": {
    "name": "ipython",
    "version": 3
   },
   "file_extension": ".py",
   "mimetype": "text/x-python",
   "name": "python",
   "nbconvert_exporter": "python",
   "pygments_lexer": "ipython3",
   "version": "3.7.1"
  }
 },
 "nbformat": 4,
 "nbformat_minor": 4
}
