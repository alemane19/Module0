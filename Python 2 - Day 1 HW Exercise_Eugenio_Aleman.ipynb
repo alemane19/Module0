{
 "cells": [
  {
   "cell_type": "markdown",
   "metadata": {},
   "source": [
    "# OOP - Class "
   ]
  },
  {
   "cell_type": "markdown",
   "metadata": {},
   "source": [
    "## Exercise 1: \n",
    "Create a Player class with a name, a position, and a speed attributes. Set the initial value of speed to 1 and create any necessary methods.\n",
    "Then, \n",
    "1. Create two Player objects and print information about both players.\n",
    "2. Assign 8 to player 1's speed\n",
    "3. print information about both players."
   ]
  },
  {
   "cell_type": "code",
   "execution_count": 12,
   "metadata": {},
   "outputs": [
    {
     "name": "stdout",
     "output_type": "stream",
     "text": [
      "John\n",
      "second\n",
      "8\n"
     ]
    }
   ],
   "source": [
    "class Player:\n",
    "    \"\"\"Player has name, position, and speed attributes\"\"\"\n",
    "    \n",
    "    def __init__(self, name, position):\n",
    "        \n",
    "        self.name = name\n",
    "        self.position = position\n",
    "        self.speed = 1\n",
    "        \n",
    "player1 = Player(\"John\", \"first\")\n",
    "print(player1.name)\n",
    "player2 = Player(\"Gene\", \"second\")\n",
    "print(player2.position)\n",
    "player1.speed = 8\n",
    "print(player1.speed)"
   ]
  },
  {
   "cell_type": "markdown",
   "metadata": {},
   "source": [
    "## Exercise 2: \n",
    "Create a class called Rectangle with height and length attributes and has following methods: \n",
    "- perimeter() : returns a perimeter of a rectangle object\n",
    "- area() : returns an area of a rectangle object\n",
    "\n",
    "Then,\n",
    "1. create two instances of Rectangle class\n",
    "2. print each rectangle's perimeter and determine which rectangle has larger perimeter\n",
    "3. print each rectangle's area and determine which rectangle has larger area"
   ]
  },
  {
   "cell_type": "code",
   "execution_count": 32,
   "metadata": {},
   "outputs": [],
   "source": [
    "class Rectangle:\n",
    "    \"\"\"Rectangle class has height and length attributes\"\"\"\n",
    "    \n",
    "    def __init__(self, height, length):\n",
    "        \n",
    "        self.height = height\n",
    "        self.length = length\n",
    "        \n",
    "    def perimeter(self):\n",
    "        \n",
    "        return (2*(self.height + self.length))\n",
    "        \n",
    "    def area(self) :\n",
    "        \n",
    "        return (self.height * self.length)\n"
   ]
  },
  {
   "cell_type": "code",
   "execution_count": 33,
   "metadata": {},
   "outputs": [
    {
     "name": "stdout",
     "output_type": "stream",
     "text": [
      "\t\tRectangle 1\tRectangle 2\tResult\n",
      "Perimteter:\t22\t\t20\t\tRectangle 1 is larger\n",
      "Area:\t\t28\t\t24\t\tRectangle 1 is larger\n"
     ]
    }
   ],
   "source": [
    "def check (rec1, rec2):\n",
    "    \n",
    "    if rec1 > rec2:\n",
    "        result = \"Rectangle 1 is larger\"\n",
    "        \n",
    "    elif rec1 < rec2:\n",
    "        result = \"Rectangle 2 is larger\"\n",
    "        \n",
    "    else:\n",
    "        result = \"Rectangles are equal\"\n",
    "        \n",
    "    return result\n",
    "\n",
    "shape1 = Rectangle(4,7)\n",
    "shape2 = Rectangle(6,4)\n",
    "\n",
    "print(\"\\t\\tRectangle 1\\tRectangle 2\\tResult\")\n",
    "\n",
    "perim_1 = shape1.perimeter()\n",
    "perim_2 = shape2.perimeter()\n",
    "\n",
    "print(f\"Perimteter:\\t{perim_1}\\t\\t{perim_2}\\t\\t{check(perim_1, perim_2)}\")\n",
    "      \n",
    "perim_1 = shape1.area()\n",
    "perim_2 = shape2.area()\n",
    "\n",
    "print(f\"Area:\\t\\t{perim_1}\\t\\t{perim_2}\\t\\t{check(perim_1, perim_2)}\")\n",
    "\n"
   ]
  },
  {
   "cell_type": "markdown",
   "metadata": {},
   "source": [
    "## Exercise 3: \n",
    "Create a class called Triangle with height and base attributes and has following methods:\n",
    "\n",
    "- perimeter() : returns a perimeter of a right triangle object\n",
    "- area() : returns an area of a right triangle object\n",
    "\n",
    "Then,\n",
    "\n",
    "- create two instances of Triangle class\n",
    "- print each triangle's perimeter and determine which triangle has larger perimeter\n",
    "- print each triangle's area and determine which triangle has larger area\n",
    "\n",
    "Use \n",
    "- perimeter of a right triangle = height + base + Square-Root((height \\** 2) + (base \\** 2)) \n",
    "- area of a right triangle = ( height * base ) / 2\n",
    "\n",
    "You'll need to <b>import math</b> library and use <b>math.sqrt()</b> function.\n",
    "\n"
   ]
  },
  {
   "cell_type": "code",
   "execution_count": null,
   "metadata": {},
   "outputs": [],
   "source": []
  },
  {
   "cell_type": "markdown",
   "metadata": {},
   "source": [
    "## Exercise 4: \n",
    "Write a program that maintains a list of movies, and the user can list all the movies, add a movie to the list, or delete a movie from the list. All input/output are done at the program level, not at a class level.\n",
    "\n",
    "\n",
    "For Python 1 Day 3 Challenge Exercise, you wrote a program that maintains a list of movies, and the user can list all the movies, add a movie to the list, or delete a movie from the list. Modify that program to use a <b>Movie object</b> to store name, year, and genre of a movie. Create any method you need to access these attributes but your method can not use <b>print</b> function. \n",
    "\n",
    "Additionally, create any function you need to make sure program neat. You may use <b>print</b> function in your function.\n"
   ]
  },
  {
   "cell_type": "code",
   "execution_count": null,
   "metadata": {},
   "outputs": [],
   "source": []
  },
  {
   "cell_type": "markdown",
   "metadata": {},
   "source": [
    "## Exercise 5: \n",
    "Create a class called Employee with \n",
    "- firstname,\n",
    "- lastname, \n",
    "- joined_date\n",
    "- active\n",
    "\n",
    "attributes and methods to retrieve each attribute.\n",
    "\n",
    "Then, write a program to \n",
    "- add 10 or more employees\n",
    "- print all employees' information\n",
    "- print all active employees' information\n",
    "\n",
    "Create any methods you need but all print statements should be called from your program, not in your class method!\n",
    "\n",
    "You must use below data set (but can add more):\n",
    "\n",
    "    data = [{\"first\":\"elmo\", \"last\":\"monster\", \"year\": 2000},\n",
    "            {\"first\":\"count\", \"last\":\"count\", \"year\": 1819},\n",
    "            {\"first\":\"big\", \"last\":\"bird\", \"year\": 2011},\n",
    "            {\"first\":\"cookie\", \"last\":\"monster\", \"year\": 2002},\n",
    "            {\"first\":\"bert\", \"last\": \"person\", \"year\": 2013},\n",
    "            {\"first\":\"ernie\", \"last\": \"person\", \"year\": 2013},\n",
    "            {\"first\":\"oscar\", \"last\": \"grouch\", \"year\": 1999},\n",
    "            {\"first\":\"zoe\", \"last\": \"cutie\", \"year\": 2015},\n",
    "            {\"first\":\"abby\", \"last\": \"cadabby\", \"year\": 2016},\n",
    "            {\"first\":\"prairie\", \"last\": \"dawn\", \"year\": 2020}\n",
    "       ]"
   ]
  },
  {
   "cell_type": "code",
   "execution_count": null,
   "metadata": {},
   "outputs": [],
   "source": []
  },
  {
   "cell_type": "code",
   "execution_count": null,
   "metadata": {},
   "outputs": [],
   "source": []
  }
 ],
 "metadata": {
  "kernelspec": {
   "display_name": "Python 3",
   "language": "python",
   "name": "python3"
  },
  "language_info": {
   "codemirror_mode": {
    "name": "ipython",
    "version": 3
   },
   "file_extension": ".py",
   "mimetype": "text/x-python",
   "name": "python",
   "nbconvert_exporter": "python",
   "pygments_lexer": "ipython3",
   "version": "3.7.1"
  }
 },
 "nbformat": 4,
 "nbformat_minor": 4
}
